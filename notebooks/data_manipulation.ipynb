{
 "cells": [
  {
   "cell_type": "code",
   "id": "initial_id",
   "metadata": {
    "collapsed": true,
    "ExecuteTime": {
     "end_time": "2024-04-21T22:46:43.668493Z",
     "start_time": "2024-04-21T22:46:43.131784Z"
    }
   },
   "source": [
    "import pandas as pd\n",
    "from src.utils import *"
   ],
   "outputs": [],
   "execution_count": 1
  },
  {
   "metadata": {
    "ExecuteTime": {
     "end_time": "2024-04-21T22:46:45.691203Z",
     "start_time": "2024-04-21T22:46:45.472164Z"
    }
   },
   "cell_type": "code",
   "source": [
    "pokemon = get_all_pokemons_from_api()\n",
    "pokemon"
   ],
   "id": "3c6e788f8874ad0b",
   "outputs": [
    {
     "data": {
      "text/plain": [
       "'https://pokeapi.co/api/v2/pokemon/1/'"
      ]
     },
     "execution_count": 2,
     "metadata": {},
     "output_type": "execute_result"
    }
   ],
   "execution_count": 2
  },
  {
   "metadata": {
    "ExecuteTime": {
     "end_time": "2024-04-21T22:46:46.865522Z",
     "start_time": "2024-04-21T22:46:46.660616Z"
    }
   },
   "cell_type": "code",
   "source": [
    "pokemon_info = get_pokemon_info(pokemon)\n",
    "df_pokemon_info = pd.DataFrame(pokemon_info)\n",
    "df_pokemon_info"
   ],
   "id": "2794ec84579838fb",
   "outputs": [
    {
     "data": {
      "text/plain": [
       "   pokemon_id       name  height  weight\n",
       "0           1  bulbasaur       7      69"
      ],
      "text/html": [
       "<div>\n",
       "<style scoped>\n",
       "    .dataframe tbody tr th:only-of-type {\n",
       "        vertical-align: middle;\n",
       "    }\n",
       "\n",
       "    .dataframe tbody tr th {\n",
       "        vertical-align: top;\n",
       "    }\n",
       "\n",
       "    .dataframe thead th {\n",
       "        text-align: right;\n",
       "    }\n",
       "</style>\n",
       "<table border=\"1\" class=\"dataframe\">\n",
       "  <thead>\n",
       "    <tr style=\"text-align: right;\">\n",
       "      <th></th>\n",
       "      <th>pokemon_id</th>\n",
       "      <th>name</th>\n",
       "      <th>height</th>\n",
       "      <th>weight</th>\n",
       "    </tr>\n",
       "  </thead>\n",
       "  <tbody>\n",
       "    <tr>\n",
       "      <th>0</th>\n",
       "      <td>1</td>\n",
       "      <td>bulbasaur</td>\n",
       "      <td>7</td>\n",
       "      <td>69</td>\n",
       "    </tr>\n",
       "  </tbody>\n",
       "</table>\n",
       "</div>"
      ]
     },
     "execution_count": 3,
     "metadata": {},
     "output_type": "execute_result"
    }
   ],
   "execution_count": 3
  },
  {
   "metadata": {
    "ExecuteTime": {
     "end_time": "2024-04-21T22:46:48.438336Z",
     "start_time": "2024-04-21T22:46:47.951006Z"
    }
   },
   "cell_type": "code",
   "source": [
    "pokemon_abilities = get_abilities_from_api(pokemon)\n",
    "df_pokemon_abilities = pd.DataFrame(pokemon_abilities)\n",
    "df_pokemon_abilities"
   ],
   "id": "8919bf9fb413cb4c",
   "outputs": [
    {
     "data": {
      "text/plain": [
       "  abilitie_id         name                                             effect  \\\n",
       "0          65     overgrow  When this Pokémon has 1/3 or less of its HP re...   \n",
       "1          34  chlorophyll  Während strong sunlight ist die speed eines Po...   \n",
       "\n",
       "   pokemon_id  \n",
       "0           1  \n",
       "1           1  "
      ],
      "text/html": [
       "<div>\n",
       "<style scoped>\n",
       "    .dataframe tbody tr th:only-of-type {\n",
       "        vertical-align: middle;\n",
       "    }\n",
       "\n",
       "    .dataframe tbody tr th {\n",
       "        vertical-align: top;\n",
       "    }\n",
       "\n",
       "    .dataframe thead th {\n",
       "        text-align: right;\n",
       "    }\n",
       "</style>\n",
       "<table border=\"1\" class=\"dataframe\">\n",
       "  <thead>\n",
       "    <tr style=\"text-align: right;\">\n",
       "      <th></th>\n",
       "      <th>abilitie_id</th>\n",
       "      <th>name</th>\n",
       "      <th>effect</th>\n",
       "      <th>pokemon_id</th>\n",
       "    </tr>\n",
       "  </thead>\n",
       "  <tbody>\n",
       "    <tr>\n",
       "      <th>0</th>\n",
       "      <td>65</td>\n",
       "      <td>overgrow</td>\n",
       "      <td>When this Pokémon has 1/3 or less of its HP re...</td>\n",
       "      <td>1</td>\n",
       "    </tr>\n",
       "    <tr>\n",
       "      <th>1</th>\n",
       "      <td>34</td>\n",
       "      <td>chlorophyll</td>\n",
       "      <td>Während strong sunlight ist die speed eines Po...</td>\n",
       "      <td>1</td>\n",
       "    </tr>\n",
       "  </tbody>\n",
       "</table>\n",
       "</div>"
      ]
     },
     "execution_count": 4,
     "metadata": {},
     "output_type": "execute_result"
    }
   ],
   "execution_count": 4
  },
  {
   "metadata": {
    "ExecuteTime": {
     "end_time": "2024-04-21T22:47:03.258389Z",
     "start_time": "2024-04-21T22:46:49.599592Z"
    }
   },
   "cell_type": "code",
   "source": [
    "pokemon_moves = get_moves_from_api(pokemon)\n",
    "df_pokemon_moves = pd.DataFrame(pokemon_moves)\n",
    "df_pokemon_moves"
   ],
   "id": "9da73e1e1f61fe1b",
   "outputs": [
    {
     "data": {
      "text/plain": [
       "   move_id            name                                             effect  \\\n",
       "0       13      razor-wind  Inflicts regular damage.  User's critical hit ...   \n",
       "1       14    swords-dance            Raises the user's Attack by two stages.   \n",
       "2       15             cut                           Inflicts regular damage.   \n",
       "3       20            bind  Inflicts regular damage.  For the next 2–5 tur...   \n",
       "4       22       vine-whip                           Inflicts regular damage.   \n",
       "..     ...             ...                                                ...   \n",
       "81     580  grassy-terrain  For five turns, heals all Pokémon on the groun...   \n",
       "82     590         confide   Lowers the target's Special Attack by one stage.   \n",
       "83     803    grassy-glide                           Inflicts regular damage.   \n",
       "84     851      tera-blast                                               Null   \n",
       "85     885      trailblaze                                               Null   \n",
       "\n",
       "    pokemon_id  \n",
       "0            1  \n",
       "1            1  \n",
       "2            1  \n",
       "3            1  \n",
       "4            1  \n",
       "..         ...  \n",
       "81           1  \n",
       "82           1  \n",
       "83           1  \n",
       "84           1  \n",
       "85           1  \n",
       "\n",
       "[86 rows x 4 columns]"
      ],
      "text/html": [
       "<div>\n",
       "<style scoped>\n",
       "    .dataframe tbody tr th:only-of-type {\n",
       "        vertical-align: middle;\n",
       "    }\n",
       "\n",
       "    .dataframe tbody tr th {\n",
       "        vertical-align: top;\n",
       "    }\n",
       "\n",
       "    .dataframe thead th {\n",
       "        text-align: right;\n",
       "    }\n",
       "</style>\n",
       "<table border=\"1\" class=\"dataframe\">\n",
       "  <thead>\n",
       "    <tr style=\"text-align: right;\">\n",
       "      <th></th>\n",
       "      <th>move_id</th>\n",
       "      <th>name</th>\n",
       "      <th>effect</th>\n",
       "      <th>pokemon_id</th>\n",
       "    </tr>\n",
       "  </thead>\n",
       "  <tbody>\n",
       "    <tr>\n",
       "      <th>0</th>\n",
       "      <td>13</td>\n",
       "      <td>razor-wind</td>\n",
       "      <td>Inflicts regular damage.  User's critical hit ...</td>\n",
       "      <td>1</td>\n",
       "    </tr>\n",
       "    <tr>\n",
       "      <th>1</th>\n",
       "      <td>14</td>\n",
       "      <td>swords-dance</td>\n",
       "      <td>Raises the user's Attack by two stages.</td>\n",
       "      <td>1</td>\n",
       "    </tr>\n",
       "    <tr>\n",
       "      <th>2</th>\n",
       "      <td>15</td>\n",
       "      <td>cut</td>\n",
       "      <td>Inflicts regular damage.</td>\n",
       "      <td>1</td>\n",
       "    </tr>\n",
       "    <tr>\n",
       "      <th>3</th>\n",
       "      <td>20</td>\n",
       "      <td>bind</td>\n",
       "      <td>Inflicts regular damage.  For the next 2–5 tur...</td>\n",
       "      <td>1</td>\n",
       "    </tr>\n",
       "    <tr>\n",
       "      <th>4</th>\n",
       "      <td>22</td>\n",
       "      <td>vine-whip</td>\n",
       "      <td>Inflicts regular damage.</td>\n",
       "      <td>1</td>\n",
       "    </tr>\n",
       "    <tr>\n",
       "      <th>...</th>\n",
       "      <td>...</td>\n",
       "      <td>...</td>\n",
       "      <td>...</td>\n",
       "      <td>...</td>\n",
       "    </tr>\n",
       "    <tr>\n",
       "      <th>81</th>\n",
       "      <td>580</td>\n",
       "      <td>grassy-terrain</td>\n",
       "      <td>For five turns, heals all Pokémon on the groun...</td>\n",
       "      <td>1</td>\n",
       "    </tr>\n",
       "    <tr>\n",
       "      <th>82</th>\n",
       "      <td>590</td>\n",
       "      <td>confide</td>\n",
       "      <td>Lowers the target's Special Attack by one stage.</td>\n",
       "      <td>1</td>\n",
       "    </tr>\n",
       "    <tr>\n",
       "      <th>83</th>\n",
       "      <td>803</td>\n",
       "      <td>grassy-glide</td>\n",
       "      <td>Inflicts regular damage.</td>\n",
       "      <td>1</td>\n",
       "    </tr>\n",
       "    <tr>\n",
       "      <th>84</th>\n",
       "      <td>851</td>\n",
       "      <td>tera-blast</td>\n",
       "      <td>Null</td>\n",
       "      <td>1</td>\n",
       "    </tr>\n",
       "    <tr>\n",
       "      <th>85</th>\n",
       "      <td>885</td>\n",
       "      <td>trailblaze</td>\n",
       "      <td>Null</td>\n",
       "      <td>1</td>\n",
       "    </tr>\n",
       "  </tbody>\n",
       "</table>\n",
       "<p>86 rows × 4 columns</p>\n",
       "</div>"
      ]
     },
     "execution_count": 5,
     "metadata": {},
     "output_type": "execute_result"
    }
   ],
   "execution_count": 5
  },
  {
   "metadata": {},
   "cell_type": "code",
   "outputs": [],
   "execution_count": null,
   "source": "",
   "id": "cc74501c8f9d0c4b"
  }
 ],
 "metadata": {
  "kernelspec": {
   "display_name": "Python 3",
   "language": "python",
   "name": "python3"
  },
  "language_info": {
   "codemirror_mode": {
    "name": "ipython",
    "version": 2
   },
   "file_extension": ".py",
   "mimetype": "text/x-python",
   "name": "python",
   "nbconvert_exporter": "python",
   "pygments_lexer": "ipython2",
   "version": "2.7.6"
  }
 },
 "nbformat": 4,
 "nbformat_minor": 5
}
