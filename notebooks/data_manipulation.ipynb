{
 "cells": [
  {
   "cell_type": "code",
   "id": "initial_id",
   "metadata": {
    "collapsed": true,
    "ExecuteTime": {
     "end_time": "2024-04-21T18:05:55.746344Z",
     "start_time": "2024-04-21T18:05:55.169234Z"
    }
   },
   "source": [
    "import pandas as pd\n",
    "from src.connect_api import connect_api"
   ],
   "outputs": [],
   "execution_count": 1
  },
  {
   "metadata": {
    "ExecuteTime": {
     "end_time": "2024-04-21T18:05:55.929975Z",
     "start_time": "2024-04-21T18:05:55.749343Z"
    }
   },
   "cell_type": "code",
   "source": [
    "pokemon = connect_api('https://pokeapi.co/api/v2/pokemon/?limit=1')\n",
    "df_pokemon = pd.DataFrame(pokemon)\n",
    "df_pokemon"
   ],
   "id": "3c6e788f8874ad0b",
   "outputs": [
    {
     "data": {
      "text/plain": [
       "        name                                   url\n",
       "0  bulbasaur  https://pokeapi.co/api/v2/pokemon/1/"
      ],
      "text/html": [
       "<div>\n",
       "<style scoped>\n",
       "    .dataframe tbody tr th:only-of-type {\n",
       "        vertical-align: middle;\n",
       "    }\n",
       "\n",
       "    .dataframe tbody tr th {\n",
       "        vertical-align: top;\n",
       "    }\n",
       "\n",
       "    .dataframe thead th {\n",
       "        text-align: right;\n",
       "    }\n",
       "</style>\n",
       "<table border=\"1\" class=\"dataframe\">\n",
       "  <thead>\n",
       "    <tr style=\"text-align: right;\">\n",
       "      <th></th>\n",
       "      <th>name</th>\n",
       "      <th>url</th>\n",
       "    </tr>\n",
       "  </thead>\n",
       "  <tbody>\n",
       "    <tr>\n",
       "      <th>0</th>\n",
       "      <td>bulbasaur</td>\n",
       "      <td>https://pokeapi.co/api/v2/pokemon/1/</td>\n",
       "    </tr>\n",
       "  </tbody>\n",
       "</table>\n",
       "</div>"
      ]
     },
     "execution_count": 2,
     "metadata": {},
     "output_type": "execute_result"
    }
   ],
   "execution_count": 2
  },
  {
   "metadata": {
    "ExecuteTime": {
     "end_time": "2024-04-21T18:05:56.156937Z",
     "start_time": "2024-04-21T18:05:55.933890Z"
    }
   },
   "cell_type": "code",
   "source": [
    "pokemon_url = df_pokemon['url'].iloc[0]\n",
    "pokemon_details = connect_api(pokemon_url)\n",
    "best_df = pd.DataFrame(pokemon_details[\"abilities\"])\n",
    "abilities_df = best_df['ability'].apply(pd.Series)[['name', 'url']]\n",
    "abilities_df"
   ],
   "id": "e67b48b80809260a",
   "outputs": [
    {
     "data": {
      "text/plain": [
       "          name                                    url\n",
       "0     overgrow  https://pokeapi.co/api/v2/ability/65/\n",
       "1  chlorophyll  https://pokeapi.co/api/v2/ability/34/"
      ],
      "text/html": [
       "<div>\n",
       "<style scoped>\n",
       "    .dataframe tbody tr th:only-of-type {\n",
       "        vertical-align: middle;\n",
       "    }\n",
       "\n",
       "    .dataframe tbody tr th {\n",
       "        vertical-align: top;\n",
       "    }\n",
       "\n",
       "    .dataframe thead th {\n",
       "        text-align: right;\n",
       "    }\n",
       "</style>\n",
       "<table border=\"1\" class=\"dataframe\">\n",
       "  <thead>\n",
       "    <tr style=\"text-align: right;\">\n",
       "      <th></th>\n",
       "      <th>name</th>\n",
       "      <th>url</th>\n",
       "    </tr>\n",
       "  </thead>\n",
       "  <tbody>\n",
       "    <tr>\n",
       "      <th>0</th>\n",
       "      <td>overgrow</td>\n",
       "      <td>https://pokeapi.co/api/v2/ability/65/</td>\n",
       "    </tr>\n",
       "    <tr>\n",
       "      <th>1</th>\n",
       "      <td>chlorophyll</td>\n",
       "      <td>https://pokeapi.co/api/v2/ability/34/</td>\n",
       "    </tr>\n",
       "  </tbody>\n",
       "</table>\n",
       "</div>"
      ]
     },
     "execution_count": 3,
     "metadata": {},
     "output_type": "execute_result"
    }
   ],
   "execution_count": 3
  },
  {
   "metadata": {
    "ExecuteTime": {
     "end_time": "2024-04-21T18:05:56.949175Z",
     "start_time": "2024-04-21T18:05:56.160121Z"
    }
   },
   "cell_type": "code",
   "source": [
    "results = []\n",
    "for index, row in abilities_df.iterrows():\n",
    "    url = row['url']\n",
    "    data = connect_api(url)\n",
    "    results.append(data)\n",
    "abilities_effected = pd.DataFrame(results)\n",
    "abilities_effected"
   ],
   "id": "defc23a8940d90f2",
   "outputs": [
    {
     "data": {
      "text/plain": [
       "  effect_changes                                     effect_entries  \\\n",
       "0             []  [{'effect': 'When this Pokémon has 1/3 or less...   \n",
       "1             []  [{'effect': 'Während strong sunlight ist die s...   \n",
       "\n",
       "                                 flavor_text_entries  \\\n",
       "0  [{'flavor_text': 'Ups GRASS moves in a pinch.'...   \n",
       "1  [{'flavor_text': 'Raises SPEED in sunshine.', ...   \n",
       "\n",
       "                                          generation  id  is_main_series  \\\n",
       "0  {'name': 'generation-iii', 'url': 'https://pok...  65            True   \n",
       "1  {'name': 'generation-iii', 'url': 'https://pok...  34            True   \n",
       "\n",
       "          name                                              names  \\\n",
       "0     overgrow  [{'language': {'name': 'ja-Hrkt', 'url': 'http...   \n",
       "1  chlorophyll  [{'language': {'name': 'ja-Hrkt', 'url': 'http...   \n",
       "\n",
       "                                             pokemon  \n",
       "0  [{'is_hidden': False, 'pokemon': {'name': 'bul...  \n",
       "1  [{'is_hidden': True, 'pokemon': {'name': 'bulb...  "
      ],
      "text/html": [
       "<div>\n",
       "<style scoped>\n",
       "    .dataframe tbody tr th:only-of-type {\n",
       "        vertical-align: middle;\n",
       "    }\n",
       "\n",
       "    .dataframe tbody tr th {\n",
       "        vertical-align: top;\n",
       "    }\n",
       "\n",
       "    .dataframe thead th {\n",
       "        text-align: right;\n",
       "    }\n",
       "</style>\n",
       "<table border=\"1\" class=\"dataframe\">\n",
       "  <thead>\n",
       "    <tr style=\"text-align: right;\">\n",
       "      <th></th>\n",
       "      <th>effect_changes</th>\n",
       "      <th>effect_entries</th>\n",
       "      <th>flavor_text_entries</th>\n",
       "      <th>generation</th>\n",
       "      <th>id</th>\n",
       "      <th>is_main_series</th>\n",
       "      <th>name</th>\n",
       "      <th>names</th>\n",
       "      <th>pokemon</th>\n",
       "    </tr>\n",
       "  </thead>\n",
       "  <tbody>\n",
       "    <tr>\n",
       "      <th>0</th>\n",
       "      <td>[]</td>\n",
       "      <td>[{'effect': 'When this Pokémon has 1/3 or less...</td>\n",
       "      <td>[{'flavor_text': 'Ups GRASS moves in a pinch.'...</td>\n",
       "      <td>{'name': 'generation-iii', 'url': 'https://pok...</td>\n",
       "      <td>65</td>\n",
       "      <td>True</td>\n",
       "      <td>overgrow</td>\n",
       "      <td>[{'language': {'name': 'ja-Hrkt', 'url': 'http...</td>\n",
       "      <td>[{'is_hidden': False, 'pokemon': {'name': 'bul...</td>\n",
       "    </tr>\n",
       "    <tr>\n",
       "      <th>1</th>\n",
       "      <td>[]</td>\n",
       "      <td>[{'effect': 'Während strong sunlight ist die s...</td>\n",
       "      <td>[{'flavor_text': 'Raises SPEED in sunshine.', ...</td>\n",
       "      <td>{'name': 'generation-iii', 'url': 'https://pok...</td>\n",
       "      <td>34</td>\n",
       "      <td>True</td>\n",
       "      <td>chlorophyll</td>\n",
       "      <td>[{'language': {'name': 'ja-Hrkt', 'url': 'http...</td>\n",
       "      <td>[{'is_hidden': True, 'pokemon': {'name': 'bulb...</td>\n",
       "    </tr>\n",
       "  </tbody>\n",
       "</table>\n",
       "</div>"
      ]
     },
     "execution_count": 4,
     "metadata": {},
     "output_type": "execute_result"
    }
   ],
   "execution_count": 4
  },
  {
   "metadata": {
    "ExecuteTime": {
     "end_time": "2024-04-21T18:05:56.960179Z",
     "start_time": "2024-04-21T18:05:56.953786Z"
    }
   },
   "cell_type": "code",
   "source": "",
   "id": "2794ec84579838fb",
   "outputs": [],
   "execution_count": 4
  }
 ],
 "metadata": {
  "kernelspec": {
   "display_name": "Python 3",
   "language": "python",
   "name": "python3"
  },
  "language_info": {
   "codemirror_mode": {
    "name": "ipython",
    "version": 2
   },
   "file_extension": ".py",
   "mimetype": "text/x-python",
   "name": "python",
   "nbconvert_exporter": "python",
   "pygments_lexer": "ipython2",
   "version": "2.7.6"
  }
 },
 "nbformat": 4,
 "nbformat_minor": 5
}
