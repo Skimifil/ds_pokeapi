{
 "cells": [
  {
   "metadata": {},
   "cell_type": "markdown",
   "source": [
    "## Pokeapi - CoderHouse\n",
    "Jupyter Notebook com as execuções de entrega do projeto, respeitando:\n",
    "1. Coleta de dados de uma API\n",
    "2. Tratamento desses dados\n",
    "3. Armazenamento em banco de dados"
   ],
   "id": "15c887bc5e1587ee"
  },
  {
   "metadata": {},
   "cell_type": "markdown",
   "source": [
    "#### Começamos importando as bibliotecas e funções\n",
    "1. pandas - Para analise dos dados coletados\n",
    "2. src.utils - Arquivo com as funções criadas para conexão na API, coleta, tratamento e armazenamento dos dados\n",
    "3. src.connect_database - Usado para fazer a conexão com o banco de dados.\n",
    "4. src.config - Onde esta as queries de \"input\" de dados no banco, assim como as informações de conesão.  "
   ],
   "id": "6c7e629343666e3b"
  },
  {
   "cell_type": "code",
   "id": "initial_id",
   "metadata": {
    "collapsed": true,
    "ExecuteTime": {
     "end_time": "2024-05-19T17:22:01.292728Z",
     "start_time": "2024-05-19T17:22:00.607838Z"
    }
   },
   "source": [
    "import pandas as pd\n",
    "from src.utils import *\n",
    "from src.connect_database import *\n",
    "from src.config import QUERY_INSERT"
   ],
   "outputs": [],
   "execution_count": 1
  },
  {
   "metadata": {},
   "cell_type": "markdown",
   "source": [
    "### Inicia fazendo a conexão na API\n",
    "A página inicial traz uma série de URLs para cada Pokemon"
   ],
   "id": "b8cb00c52911826d"
  },
  {
   "metadata": {
    "ExecuteTime": {
     "end_time": "2024-05-19T17:22:02.228554Z",
     "start_time": "2024-05-19T17:22:01.296072Z"
    }
   },
   "cell_type": "code",
   "source": [
    "pokemon = get_all_pokemons_from_api()\n",
    "pokemon"
   ],
   "id": "3c6e788f8874ad0b",
   "outputs": [
    {
     "data": {
      "text/plain": [
       "'https://pokeapi.co/api/v2/pokemon/1/'"
      ]
     },
     "execution_count": 2,
     "metadata": {},
     "output_type": "execute_result"
    }
   ],
   "execution_count": 2
  },
  {
   "metadata": {},
   "cell_type": "markdown",
   "source": [
    "### Com a URL do Pokemon, inicia o tratamento dos dados\n",
    "\n",
    "Coleta as informações do Pokemon"
   ],
   "id": "3349fbf8075847eb"
  },
  {
   "metadata": {
    "ExecuteTime": {
     "end_time": "2024-05-19T17:22:03.164839Z",
     "start_time": "2024-05-19T17:22:02.230985Z"
    }
   },
   "cell_type": "code",
   "source": [
    "pokemon_info = get_pokemon_info(pokemon)\n",
    "\n",
    "client_db = connect_to_mysql()\n",
    "query_pokemon = QUERY_INSERT['pokemon']\n",
    "store_pokemon_data(pokemon_info, client_db, query_pokemon)\n",
    "\n",
    "disconnect_to_mysql(client_db)\n",
    "\n",
    "df_pokemon_info = pd.DataFrame(pokemon_info)\n",
    "df_pokemon_info"
   ],
   "id": "2794ec84579838fb",
   "outputs": [
    {
     "name": "stdout",
     "output_type": "stream",
     "text": [
      "[connect_to_mysql] Connection success to MySQL!\n",
      "[disconnect_to_mysql] Client disconnected!\n"
     ]
    },
    {
     "data": {
      "text/plain": [
       "   pokemon_id       name  height  weight\n",
       "0           1  bulbasaur       7      69"
      ],
      "text/html": [
       "<div>\n",
       "<style scoped>\n",
       "    .dataframe tbody tr th:only-of-type {\n",
       "        vertical-align: middle;\n",
       "    }\n",
       "\n",
       "    .dataframe tbody tr th {\n",
       "        vertical-align: top;\n",
       "    }\n",
       "\n",
       "    .dataframe thead th {\n",
       "        text-align: right;\n",
       "    }\n",
       "</style>\n",
       "<table border=\"1\" class=\"dataframe\">\n",
       "  <thead>\n",
       "    <tr style=\"text-align: right;\">\n",
       "      <th></th>\n",
       "      <th>pokemon_id</th>\n",
       "      <th>name</th>\n",
       "      <th>height</th>\n",
       "      <th>weight</th>\n",
       "    </tr>\n",
       "  </thead>\n",
       "  <tbody>\n",
       "    <tr>\n",
       "      <th>0</th>\n",
       "      <td>1</td>\n",
       "      <td>bulbasaur</td>\n",
       "      <td>7</td>\n",
       "      <td>69</td>\n",
       "    </tr>\n",
       "  </tbody>\n",
       "</table>\n",
       "</div>"
      ]
     },
     "execution_count": 3,
     "metadata": {},
     "output_type": "execute_result"
    }
   ],
   "execution_count": 3
  },
  {
   "metadata": {},
   "cell_type": "markdown",
   "source": "Coleta as informações de habilidades",
   "id": "709d25986107ba2a"
  },
  {
   "metadata": {
    "ExecuteTime": {
     "end_time": "2024-05-19T17:22:04.715026Z",
     "start_time": "2024-05-19T17:22:03.171818Z"
    }
   },
   "cell_type": "code",
   "source": [
    "pokemon_abilities, pokemon_abilities_ids_aux = get_abilities_from_api(pokemon)\n",
    "\n",
    "client_db = connect_to_mysql()\n",
    "query_abilities = QUERY_INSERT['abilities']\n",
    "store_pokemon_data(pokemon_abilities, client_db, query_abilities)\n",
    "\n",
    "query_pokemon_abilities = QUERY_INSERT['pokemon_abilities']\n",
    "store_pokemon_data(pokemon_abilities_ids_aux, client_db, query_pokemon_abilities)\n",
    "\n",
    "disconnect_to_mysql(client_db)\n",
    "\n",
    "df_pokemon_abilities = pd.DataFrame(pokemon_abilities)\n",
    "df_pokemon_abilities"
   ],
   "id": "8919bf9fb413cb4c",
   "outputs": [
    {
     "name": "stdout",
     "output_type": "stream",
     "text": [
      "[connect_to_mysql] Connection success to MySQL!\n",
      "[disconnect_to_mysql] Client disconnected!\n"
     ]
    },
    {
     "data": {
      "text/plain": [
       "   abilitie_id         name\n",
       "0           65     overgrow\n",
       "1           34  chlorophyll"
      ],
      "text/html": [
       "<div>\n",
       "<style scoped>\n",
       "    .dataframe tbody tr th:only-of-type {\n",
       "        vertical-align: middle;\n",
       "    }\n",
       "\n",
       "    .dataframe tbody tr th {\n",
       "        vertical-align: top;\n",
       "    }\n",
       "\n",
       "    .dataframe thead th {\n",
       "        text-align: right;\n",
       "    }\n",
       "</style>\n",
       "<table border=\"1\" class=\"dataframe\">\n",
       "  <thead>\n",
       "    <tr style=\"text-align: right;\">\n",
       "      <th></th>\n",
       "      <th>abilitie_id</th>\n",
       "      <th>name</th>\n",
       "    </tr>\n",
       "  </thead>\n",
       "  <tbody>\n",
       "    <tr>\n",
       "      <th>0</th>\n",
       "      <td>65</td>\n",
       "      <td>overgrow</td>\n",
       "    </tr>\n",
       "    <tr>\n",
       "      <th>1</th>\n",
       "      <td>34</td>\n",
       "      <td>chlorophyll</td>\n",
       "    </tr>\n",
       "  </tbody>\n",
       "</table>\n",
       "</div>"
      ]
     },
     "execution_count": 4,
     "metadata": {},
     "output_type": "execute_result"
    }
   ],
   "execution_count": 4
  },
  {
   "metadata": {},
   "cell_type": "markdown",
   "source": "Coleta as informações dos movimentos",
   "id": "20a415ccc4c475cd"
  },
  {
   "metadata": {
    "ExecuteTime": {
     "end_time": "2024-05-19T17:22:49.729907Z",
     "start_time": "2024-05-19T17:22:04.721249Z"
    }
   },
   "cell_type": "code",
   "source": [
    "pokemon_moves, pokemon_moves_ids_aux = get_moves_from_api(pokemon)\n",
    "\n",
    "client_db = connect_to_mysql()\n",
    "query_moves = QUERY_INSERT['moves']\n",
    "store_pokemon_data(pokemon_moves, client_db, query_moves)\n",
    "\n",
    "query_pokemon_moves = QUERY_INSERT['pokemon_moves']\n",
    "store_pokemon_data(pokemon_moves_ids_aux, client_db, query_pokemon_moves)\n",
    "\n",
    "disconnect_to_mysql(client_db)\n",
    "\n",
    "df_pokemon_moves = pd.DataFrame(pokemon_moves)\n",
    "df_pokemon_moves"
   ],
   "id": "9da73e1e1f61fe1b",
   "outputs": [
    {
     "name": "stdout",
     "output_type": "stream",
     "text": [
      "[connect_to_mysql] Connection success to MySQL!\n",
      "[disconnect_to_mysql] Client disconnected!\n"
     ]
    },
    {
     "data": {
      "text/plain": [
       "    move_id            name\n",
       "0        13      razor-wind\n",
       "1        14    swords-dance\n",
       "2        15             cut\n",
       "3        20            bind\n",
       "4        22       vine-whip\n",
       "..      ...             ...\n",
       "81      580  grassy-terrain\n",
       "82      590         confide\n",
       "83      803    grassy-glide\n",
       "84      851      tera-blast\n",
       "85      885      trailblaze\n",
       "\n",
       "[86 rows x 2 columns]"
      ],
      "text/html": [
       "<div>\n",
       "<style scoped>\n",
       "    .dataframe tbody tr th:only-of-type {\n",
       "        vertical-align: middle;\n",
       "    }\n",
       "\n",
       "    .dataframe tbody tr th {\n",
       "        vertical-align: top;\n",
       "    }\n",
       "\n",
       "    .dataframe thead th {\n",
       "        text-align: right;\n",
       "    }\n",
       "</style>\n",
       "<table border=\"1\" class=\"dataframe\">\n",
       "  <thead>\n",
       "    <tr style=\"text-align: right;\">\n",
       "      <th></th>\n",
       "      <th>move_id</th>\n",
       "      <th>name</th>\n",
       "    </tr>\n",
       "  </thead>\n",
       "  <tbody>\n",
       "    <tr>\n",
       "      <th>0</th>\n",
       "      <td>13</td>\n",
       "      <td>razor-wind</td>\n",
       "    </tr>\n",
       "    <tr>\n",
       "      <th>1</th>\n",
       "      <td>14</td>\n",
       "      <td>swords-dance</td>\n",
       "    </tr>\n",
       "    <tr>\n",
       "      <th>2</th>\n",
       "      <td>15</td>\n",
       "      <td>cut</td>\n",
       "    </tr>\n",
       "    <tr>\n",
       "      <th>3</th>\n",
       "      <td>20</td>\n",
       "      <td>bind</td>\n",
       "    </tr>\n",
       "    <tr>\n",
       "      <th>4</th>\n",
       "      <td>22</td>\n",
       "      <td>vine-whip</td>\n",
       "    </tr>\n",
       "    <tr>\n",
       "      <th>...</th>\n",
       "      <td>...</td>\n",
       "      <td>...</td>\n",
       "    </tr>\n",
       "    <tr>\n",
       "      <th>81</th>\n",
       "      <td>580</td>\n",
       "      <td>grassy-terrain</td>\n",
       "    </tr>\n",
       "    <tr>\n",
       "      <th>82</th>\n",
       "      <td>590</td>\n",
       "      <td>confide</td>\n",
       "    </tr>\n",
       "    <tr>\n",
       "      <th>83</th>\n",
       "      <td>803</td>\n",
       "      <td>grassy-glide</td>\n",
       "    </tr>\n",
       "    <tr>\n",
       "      <th>84</th>\n",
       "      <td>851</td>\n",
       "      <td>tera-blast</td>\n",
       "    </tr>\n",
       "    <tr>\n",
       "      <th>85</th>\n",
       "      <td>885</td>\n",
       "      <td>trailblaze</td>\n",
       "    </tr>\n",
       "  </tbody>\n",
       "</table>\n",
       "<p>86 rows × 2 columns</p>\n",
       "</div>"
      ]
     },
     "execution_count": 5,
     "metadata": {},
     "output_type": "execute_result"
    }
   ],
   "execution_count": 5
  },
  {
   "metadata": {},
   "cell_type": "markdown",
   "source": "# Analise dos dados",
   "id": "deb7f97f22b592e1"
  },
  {
   "metadata": {
    "ExecuteTime": {
     "end_time": "2024-05-19T17:22:49.826003Z",
     "start_time": "2024-05-19T17:22:49.738107Z"
    }
   },
   "cell_type": "code",
   "source": [
    "client_db = connect_to_mysql()\n",
    "query = \"\"\"\n",
    "SELECT p.pokemon_id AS POKEMON_ID, p.name AS pokemon_name, a.name AS abilitie_name, m.name AS move_name\n",
    "    FROM pokemon p\n",
    "    LEFT JOIN pokemon_abilities pa ON p.pokemon_id = pa.pokemon_id\n",
    "    LEFT JOIN abilities a ON pa.ability_id = a.abilitie_id\n",
    "    LEFT JOIN pokemon_moves pm ON p.pokemon_id = pm.pokemon_id\n",
    "    LEFT JOIN moves m ON pm.move_id = m.move_id\n",
    "    GROUP BY p.pokemon_id,p.name, a.name, m.name\n",
    "    ORDER BY p.name;\n",
    "\"\"\"\n",
    "\n",
    "df_select = pd.read_sql_query(query, client_db)\n",
    "disconnect_to_mysql(client_db)\n",
    "\n",
    "df_select"
   ],
   "id": "cc74501c8f9d0c4b",
   "outputs": [
    {
     "name": "stdout",
     "output_type": "stream",
     "text": [
      "[connect_to_mysql] Connection success to MySQL!\n",
      "[disconnect_to_mysql] Client disconnected!\n"
     ]
    },
    {
     "name": "stderr",
     "output_type": "stream",
     "text": [
      "/tmp/ipykernel_25415/2059514234.py:13: UserWarning: pandas only supports SQLAlchemy connectable (engine/connection) or database string URI or sqlite3 DBAPI2 connection. Other DBAPI2 objects are not tested. Please consider using SQLAlchemy.\n",
      "  df_select = pd.read_sql_query(query, client_db)\n"
     ]
    },
    {
     "data": {
      "text/plain": [
       "     POKEMON_ID pokemon_name abilitie_name     move_name\n",
       "0             1    bulbasaur      overgrow     synthesis\n",
       "1             1    bulbasaur      overgrow  weather-ball\n",
       "2             1    bulbasaur      overgrow  secret-power\n",
       "3             1    bulbasaur      overgrow     knock-off\n",
       "4             1    bulbasaur      overgrow       ingrain\n",
       "..          ...          ...           ...           ...\n",
       "167           1    bulbasaur   chlorophyll  light-screen\n",
       "168           1    bulbasaur   chlorophyll  defense-curl\n",
       "169           1    bulbasaur   chlorophyll   double-team\n",
       "170           1    bulbasaur   chlorophyll         mimic\n",
       "171           1    bulbasaur   chlorophyll          rage\n",
       "\n",
       "[172 rows x 4 columns]"
      ],
      "text/html": [
       "<div>\n",
       "<style scoped>\n",
       "    .dataframe tbody tr th:only-of-type {\n",
       "        vertical-align: middle;\n",
       "    }\n",
       "\n",
       "    .dataframe tbody tr th {\n",
       "        vertical-align: top;\n",
       "    }\n",
       "\n",
       "    .dataframe thead th {\n",
       "        text-align: right;\n",
       "    }\n",
       "</style>\n",
       "<table border=\"1\" class=\"dataframe\">\n",
       "  <thead>\n",
       "    <tr style=\"text-align: right;\">\n",
       "      <th></th>\n",
       "      <th>POKEMON_ID</th>\n",
       "      <th>pokemon_name</th>\n",
       "      <th>abilitie_name</th>\n",
       "      <th>move_name</th>\n",
       "    </tr>\n",
       "  </thead>\n",
       "  <tbody>\n",
       "    <tr>\n",
       "      <th>0</th>\n",
       "      <td>1</td>\n",
       "      <td>bulbasaur</td>\n",
       "      <td>overgrow</td>\n",
       "      <td>synthesis</td>\n",
       "    </tr>\n",
       "    <tr>\n",
       "      <th>1</th>\n",
       "      <td>1</td>\n",
       "      <td>bulbasaur</td>\n",
       "      <td>overgrow</td>\n",
       "      <td>weather-ball</td>\n",
       "    </tr>\n",
       "    <tr>\n",
       "      <th>2</th>\n",
       "      <td>1</td>\n",
       "      <td>bulbasaur</td>\n",
       "      <td>overgrow</td>\n",
       "      <td>secret-power</td>\n",
       "    </tr>\n",
       "    <tr>\n",
       "      <th>3</th>\n",
       "      <td>1</td>\n",
       "      <td>bulbasaur</td>\n",
       "      <td>overgrow</td>\n",
       "      <td>knock-off</td>\n",
       "    </tr>\n",
       "    <tr>\n",
       "      <th>4</th>\n",
       "      <td>1</td>\n",
       "      <td>bulbasaur</td>\n",
       "      <td>overgrow</td>\n",
       "      <td>ingrain</td>\n",
       "    </tr>\n",
       "    <tr>\n",
       "      <th>...</th>\n",
       "      <td>...</td>\n",
       "      <td>...</td>\n",
       "      <td>...</td>\n",
       "      <td>...</td>\n",
       "    </tr>\n",
       "    <tr>\n",
       "      <th>167</th>\n",
       "      <td>1</td>\n",
       "      <td>bulbasaur</td>\n",
       "      <td>chlorophyll</td>\n",
       "      <td>light-screen</td>\n",
       "    </tr>\n",
       "    <tr>\n",
       "      <th>168</th>\n",
       "      <td>1</td>\n",
       "      <td>bulbasaur</td>\n",
       "      <td>chlorophyll</td>\n",
       "      <td>defense-curl</td>\n",
       "    </tr>\n",
       "    <tr>\n",
       "      <th>169</th>\n",
       "      <td>1</td>\n",
       "      <td>bulbasaur</td>\n",
       "      <td>chlorophyll</td>\n",
       "      <td>double-team</td>\n",
       "    </tr>\n",
       "    <tr>\n",
       "      <th>170</th>\n",
       "      <td>1</td>\n",
       "      <td>bulbasaur</td>\n",
       "      <td>chlorophyll</td>\n",
       "      <td>mimic</td>\n",
       "    </tr>\n",
       "    <tr>\n",
       "      <th>171</th>\n",
       "      <td>1</td>\n",
       "      <td>bulbasaur</td>\n",
       "      <td>chlorophyll</td>\n",
       "      <td>rage</td>\n",
       "    </tr>\n",
       "  </tbody>\n",
       "</table>\n",
       "<p>172 rows × 4 columns</p>\n",
       "</div>"
      ]
     },
     "execution_count": 6,
     "metadata": {},
     "output_type": "execute_result"
    }
   ],
   "execution_count": 6
  },
  {
   "metadata": {},
   "cell_type": "markdown",
   "source": "",
   "id": "3427eebdce0de17d"
  }
 ],
 "metadata": {
  "kernelspec": {
   "display_name": "Python 3",
   "language": "python",
   "name": "python3"
  },
  "language_info": {
   "codemirror_mode": {
    "name": "ipython",
    "version": 2
   },
   "file_extension": ".py",
   "mimetype": "text/x-python",
   "name": "python",
   "nbconvert_exporter": "python",
   "pygments_lexer": "ipython2",
   "version": "2.7.6"
  }
 },
 "nbformat": 4,
 "nbformat_minor": 5
}
