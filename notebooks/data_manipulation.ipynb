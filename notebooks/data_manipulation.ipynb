{
 "cells": [
  {
   "metadata": {},
   "cell_type": "markdown",
   "source": [
    "## Pokeapi - CoderHouse\n",
    "Jupyter Notebook com as execuções de entrega do projeto, respeitando:\n",
    "1. Coleta de dados de uma API\n",
    "2. Tratamento desses dados\n",
    "3. Armazenamento em banco de dados"
   ],
   "id": "15c887bc5e1587ee"
  },
  {
   "metadata": {},
   "cell_type": "markdown",
   "source": [
    "#### Começamos importando as bibliotecas e funções\n",
    "1. pandas - Para analise dos dados coletados\n",
    "2. src.utils - Arquivo com as funções criadas para conexão na API, coleta, tratamento e armazenamento dos dados\n",
    "3. src.connect_database - Usado para fazer a conexão com o banco de dados.\n",
    "4. src.config - Onde esta as queries de \"input\" de dados no banco, assim como as informações de conesão.  "
   ],
   "id": "6c7e629343666e3b"
  },
  {
   "cell_type": "code",
   "id": "initial_id",
   "metadata": {
    "collapsed": true,
    "ExecuteTime": {
     "end_time": "2024-05-01T14:21:42.662936Z",
     "start_time": "2024-05-01T14:21:41.897287Z"
    }
   },
   "source": [
    "import pandas as pd\n",
    "from src.utils import *\n",
    "from src.connect_database import *\n",
    "from src.config import QUERY_INSERT"
   ],
   "outputs": [],
   "execution_count": 1
  },
  {
   "metadata": {},
   "cell_type": "markdown",
   "source": [
    "### Inicia fazendo a conexão na API\n",
    "A página inicial traz uma série de URLs para cada Pokemon"
   ],
   "id": "b8cb00c52911826d"
  },
  {
   "metadata": {
    "ExecuteTime": {
     "end_time": "2024-05-01T14:21:48.263579Z",
     "start_time": "2024-05-01T14:21:48.094703Z"
    }
   },
   "cell_type": "code",
   "source": [
    "pokemon = get_all_pokemons_from_api()\n",
    "pokemon"
   ],
   "id": "3c6e788f8874ad0b",
   "outputs": [
    {
     "data": {
      "text/plain": [
       "'https://pokeapi.co/api/v2/pokemon/1/'"
      ]
     },
     "execution_count": 2,
     "metadata": {},
     "output_type": "execute_result"
    }
   ],
   "execution_count": 2
  },
  {
   "metadata": {},
   "cell_type": "markdown",
   "source": [
    "### Com a URL do Pokemon, inicia o tratamento dos dados\n",
    "\n",
    "Coleta as informações do Pokemon"
   ],
   "id": "3349fbf8075847eb"
  },
  {
   "metadata": {
    "ExecuteTime": {
     "end_time": "2024-05-01T14:21:52.656131Z",
     "start_time": "2024-05-01T14:21:52.448733Z"
    }
   },
   "cell_type": "code",
   "source": [
    "pokemon_info = get_pokemon_info(pokemon)\n",
    "\n",
    "client_db = connect_to_mysql()\n",
    "query_pokemon = QUERY_INSERT['pokemon']\n",
    "store_pokemon_data(pokemon_info, client_db, query_pokemon)\n",
    "disconnect_to_mysql(client_db)\n",
    "\n",
    "df_pokemon_info = pd.DataFrame(pokemon_info)\n",
    "df_pokemon_info"
   ],
   "id": "2794ec84579838fb",
   "outputs": [
    {
     "name": "stdout",
     "output_type": "stream",
     "text": [
      "[connect_to_mysql] Connection success to MySQL!\n",
      "[disconnect_to_mysql] Client disconnected!\n"
     ]
    },
    {
     "data": {
      "text/plain": [
       "   pokemon_id       name  height  weight\n",
       "0           1  bulbasaur       7      69"
      ],
      "text/html": [
       "<div>\n",
       "<style scoped>\n",
       "    .dataframe tbody tr th:only-of-type {\n",
       "        vertical-align: middle;\n",
       "    }\n",
       "\n",
       "    .dataframe tbody tr th {\n",
       "        vertical-align: top;\n",
       "    }\n",
       "\n",
       "    .dataframe thead th {\n",
       "        text-align: right;\n",
       "    }\n",
       "</style>\n",
       "<table border=\"1\" class=\"dataframe\">\n",
       "  <thead>\n",
       "    <tr style=\"text-align: right;\">\n",
       "      <th></th>\n",
       "      <th>pokemon_id</th>\n",
       "      <th>name</th>\n",
       "      <th>height</th>\n",
       "      <th>weight</th>\n",
       "    </tr>\n",
       "  </thead>\n",
       "  <tbody>\n",
       "    <tr>\n",
       "      <th>0</th>\n",
       "      <td>1</td>\n",
       "      <td>bulbasaur</td>\n",
       "      <td>7</td>\n",
       "      <td>69</td>\n",
       "    </tr>\n",
       "  </tbody>\n",
       "</table>\n",
       "</div>"
      ]
     },
     "execution_count": 3,
     "metadata": {},
     "output_type": "execute_result"
    }
   ],
   "execution_count": 3
  },
  {
   "metadata": {},
   "cell_type": "markdown",
   "source": "Coleta as informações de habilidades",
   "id": "709d25986107ba2a"
  },
  {
   "metadata": {
    "ExecuteTime": {
     "end_time": "2024-05-01T14:21:59.084570Z",
     "start_time": "2024-05-01T14:21:58.319699Z"
    }
   },
   "cell_type": "code",
   "source": [
    "pokemon_abilities = get_abilities_from_api(pokemon)\n",
    "\n",
    "client_db = connect_to_mysql()\n",
    "query_abilities = QUERY_INSERT['abilities']\n",
    "store_pokemon_data(pokemon_abilities, client_db, query_abilities)\n",
    "disconnect_to_mysql(client_db)\n",
    "\n",
    "df_pokemon_abilities = pd.DataFrame(pokemon_abilities)\n",
    "df_pokemon_abilities"
   ],
   "id": "8919bf9fb413cb4c",
   "outputs": [
    {
     "name": "stdout",
     "output_type": "stream",
     "text": [
      "[connect_to_mysql] Connection success to MySQL!\n",
      "[disconnect_to_mysql] Client disconnected!\n"
     ]
    },
    {
     "data": {
      "text/plain": [
       "   abilitie_id         name                                             effect\n",
       "0           65     overgrow  When this Pokémon has 1/3 or less of its HP re...\n",
       "1           34  chlorophyll  Während strong sunlight ist die speed eines Po..."
      ],
      "text/html": [
       "<div>\n",
       "<style scoped>\n",
       "    .dataframe tbody tr th:only-of-type {\n",
       "        vertical-align: middle;\n",
       "    }\n",
       "\n",
       "    .dataframe tbody tr th {\n",
       "        vertical-align: top;\n",
       "    }\n",
       "\n",
       "    .dataframe thead th {\n",
       "        text-align: right;\n",
       "    }\n",
       "</style>\n",
       "<table border=\"1\" class=\"dataframe\">\n",
       "  <thead>\n",
       "    <tr style=\"text-align: right;\">\n",
       "      <th></th>\n",
       "      <th>abilitie_id</th>\n",
       "      <th>name</th>\n",
       "      <th>effect</th>\n",
       "    </tr>\n",
       "  </thead>\n",
       "  <tbody>\n",
       "    <tr>\n",
       "      <th>0</th>\n",
       "      <td>65</td>\n",
       "      <td>overgrow</td>\n",
       "      <td>When this Pokémon has 1/3 or less of its HP re...</td>\n",
       "    </tr>\n",
       "    <tr>\n",
       "      <th>1</th>\n",
       "      <td>34</td>\n",
       "      <td>chlorophyll</td>\n",
       "      <td>Während strong sunlight ist die speed eines Po...</td>\n",
       "    </tr>\n",
       "  </tbody>\n",
       "</table>\n",
       "</div>"
      ]
     },
     "execution_count": 4,
     "metadata": {},
     "output_type": "execute_result"
    }
   ],
   "execution_count": 4
  },
  {
   "metadata": {},
   "cell_type": "markdown",
   "source": "Coleta as informações dos movimentos",
   "id": "20a415ccc4c475cd"
  },
  {
   "metadata": {
    "ExecuteTime": {
     "end_time": "2024-05-01T14:22:27.133440Z",
     "start_time": "2024-05-01T14:22:03.896985Z"
    }
   },
   "cell_type": "code",
   "source": [
    "pokemon_moves = get_moves_from_api(pokemon)\n",
    "\n",
    "client_db = connect_to_mysql()\n",
    "query_moves = QUERY_INSERT['moves']\n",
    "store_pokemon_data(pokemon_moves, client_db, query_moves)\n",
    "disconnect_to_mysql(client_db)\n",
    "\n",
    "df_pokemon_moves = pd.DataFrame(pokemon_moves)\n",
    "df_pokemon_moves"
   ],
   "id": "9da73e1e1f61fe1b",
   "outputs": [
    {
     "name": "stdout",
     "output_type": "stream",
     "text": [
      "[connect_to_mysql] Connection success to MySQL!\n",
      "[disconnect_to_mysql] Client disconnected!\n"
     ]
    },
    {
     "data": {
      "text/plain": [
       "    move_id            name                                             effect\n",
       "0        13      razor-wind  Inflicts regular damage.  User's critical hit ...\n",
       "1        14    swords-dance            Raises the user's Attack by two stages.\n",
       "2        15             cut                           Inflicts regular damage.\n",
       "3        20            bind  Inflicts regular damage.  For the next 2–5 tur...\n",
       "4        22       vine-whip                           Inflicts regular damage.\n",
       "..      ...             ...                                                ...\n",
       "81      580  grassy-terrain  For five turns, heals all Pokémon on the groun...\n",
       "82      590         confide   Lowers the target's Special Attack by one stage.\n",
       "83      803    grassy-glide                           Inflicts regular damage.\n",
       "84      851      tera-blast                                               Null\n",
       "85      885      trailblaze                                               Null\n",
       "\n",
       "[86 rows x 3 columns]"
      ],
      "text/html": [
       "<div>\n",
       "<style scoped>\n",
       "    .dataframe tbody tr th:only-of-type {\n",
       "        vertical-align: middle;\n",
       "    }\n",
       "\n",
       "    .dataframe tbody tr th {\n",
       "        vertical-align: top;\n",
       "    }\n",
       "\n",
       "    .dataframe thead th {\n",
       "        text-align: right;\n",
       "    }\n",
       "</style>\n",
       "<table border=\"1\" class=\"dataframe\">\n",
       "  <thead>\n",
       "    <tr style=\"text-align: right;\">\n",
       "      <th></th>\n",
       "      <th>move_id</th>\n",
       "      <th>name</th>\n",
       "      <th>effect</th>\n",
       "    </tr>\n",
       "  </thead>\n",
       "  <tbody>\n",
       "    <tr>\n",
       "      <th>0</th>\n",
       "      <td>13</td>\n",
       "      <td>razor-wind</td>\n",
       "      <td>Inflicts regular damage.  User's critical hit ...</td>\n",
       "    </tr>\n",
       "    <tr>\n",
       "      <th>1</th>\n",
       "      <td>14</td>\n",
       "      <td>swords-dance</td>\n",
       "      <td>Raises the user's Attack by two stages.</td>\n",
       "    </tr>\n",
       "    <tr>\n",
       "      <th>2</th>\n",
       "      <td>15</td>\n",
       "      <td>cut</td>\n",
       "      <td>Inflicts regular damage.</td>\n",
       "    </tr>\n",
       "    <tr>\n",
       "      <th>3</th>\n",
       "      <td>20</td>\n",
       "      <td>bind</td>\n",
       "      <td>Inflicts regular damage.  For the next 2–5 tur...</td>\n",
       "    </tr>\n",
       "    <tr>\n",
       "      <th>4</th>\n",
       "      <td>22</td>\n",
       "      <td>vine-whip</td>\n",
       "      <td>Inflicts regular damage.</td>\n",
       "    </tr>\n",
       "    <tr>\n",
       "      <th>...</th>\n",
       "      <td>...</td>\n",
       "      <td>...</td>\n",
       "      <td>...</td>\n",
       "    </tr>\n",
       "    <tr>\n",
       "      <th>81</th>\n",
       "      <td>580</td>\n",
       "      <td>grassy-terrain</td>\n",
       "      <td>For five turns, heals all Pokémon on the groun...</td>\n",
       "    </tr>\n",
       "    <tr>\n",
       "      <th>82</th>\n",
       "      <td>590</td>\n",
       "      <td>confide</td>\n",
       "      <td>Lowers the target's Special Attack by one stage.</td>\n",
       "    </tr>\n",
       "    <tr>\n",
       "      <th>83</th>\n",
       "      <td>803</td>\n",
       "      <td>grassy-glide</td>\n",
       "      <td>Inflicts regular damage.</td>\n",
       "    </tr>\n",
       "    <tr>\n",
       "      <th>84</th>\n",
       "      <td>851</td>\n",
       "      <td>tera-blast</td>\n",
       "      <td>Null</td>\n",
       "    </tr>\n",
       "    <tr>\n",
       "      <th>85</th>\n",
       "      <td>885</td>\n",
       "      <td>trailblaze</td>\n",
       "      <td>Null</td>\n",
       "    </tr>\n",
       "  </tbody>\n",
       "</table>\n",
       "<p>86 rows × 3 columns</p>\n",
       "</div>"
      ]
     },
     "execution_count": 5,
     "metadata": {},
     "output_type": "execute_result"
    }
   ],
   "execution_count": 5
  },
  {
   "metadata": {},
   "cell_type": "code",
   "source": "",
   "id": "cc74501c8f9d0c4b",
   "outputs": [],
   "execution_count": null
  }
 ],
 "metadata": {
  "kernelspec": {
   "display_name": "Python 3",
   "language": "python",
   "name": "python3"
  },
  "language_info": {
   "codemirror_mode": {
    "name": "ipython",
    "version": 2
   },
   "file_extension": ".py",
   "mimetype": "text/x-python",
   "name": "python",
   "nbconvert_exporter": "python",
   "pygments_lexer": "ipython2",
   "version": "2.7.6"
  }
 },
 "nbformat": 4,
 "nbformat_minor": 5
}
